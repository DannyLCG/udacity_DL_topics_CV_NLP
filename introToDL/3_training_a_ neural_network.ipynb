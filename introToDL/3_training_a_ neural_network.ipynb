{
 "cells": [
  {
   "cell_type": "markdown",
   "id": "5c9b62ee",
   "metadata": {},
   "source": [
    "## Training a Neural Network\n",
    "\n",
    "In this exercise, you will have to implement all aspects of a neural network training script. This includes creating data loading and model training, testing logic in your code. Here are the steps you need to do to complete this exercise:\n",
    "\n",
    "1. Finish the `train()` and `test()` functions. These should contain loops to train and test your model respectively.\n",
    "2. Finish the `create_model()` function. You can use the same model from a previous exercise.\n",
    "3. Create Data Transforms and Data Loaders to download, read and preprocess your data.\n",
    "4. Add a cost function and optimizer. You can use the same cost functions and optimizer from the previous exercise.\n",
    "\n",
    "**Note**: It may take 5 - 10 minutes to download the data sets. \n",
    "\n",
    "In case you get stuck, you can look at the solution notebook."
   ]
  },
  {
   "cell_type": "markdown",
   "id": "bc01d8e8",
   "metadata": {},
   "source": [
    "## Immport libraries"
   ]
  },
  {
   "cell_type": "code",
   "execution_count": null,
   "id": "fcf49eb1",
   "metadata": {},
   "outputs": [],
   "source": [
    "import numpy as np\n",
    "import torch\n",
    "from torchvision import datasets, transforms\n",
    "from torch import nn, optim"
   ]
  },
  {
   "cell_type": "markdown",
   "id": "2b98a082",
   "metadata": {},
   "source": [
    "### Download and load data\n",
    "#### Proprocess data\n",
    "Here we are not actually performing transformations but rather insntancig the tranformation functions that will be applied to the datasets."
   ]
  },
  {
   "cell_type": "code",
   "execution_count": null,
   "id": "0c229f7d",
   "metadata": {},
   "outputs": [],
   "source": [
    "import torch.utils\n",
    "import torch.utils.data\n",
    "\n",
    "# Create data transformations\n",
    "train_transform = transforms.Compose([\n",
    "    # Add a flip transformation to perform data augmentation\n",
    "    transforms.RandomHorizontalFlip(p=0.5),\n",
    "    # Transform data to tensors\n",
    "    transforms.ToTensor(), \n",
    "    # Normalize data\n",
    "    transforms.Normalize((0.1307,), (0.3081,))\n",
    "])\n",
    "\n",
    "test_transform = transforms.Compose([\n",
    "    # Transform data to tensors\n",
    "    transforms.ToTensor(), \n",
    "    # Normalize data\n",
    "    transforms.Normalize((0.1307,), (0.3081,))\n",
    "])\n",
    "\n",
    "# Download and load data\n",
    "batch_size = 64\n",
    "\n",
    "trainset = datasets.MNIST('/data', download=True, train=True, transform=train_transform)\n",
    "testset = datasets.MNIST('/data', download=True, train=False, transform=test_transform)\n",
    "\n",
    "# Instance data loaders\n",
    "train_loader = torch.utils.data.DataLoader(trainset, batch_size=batch_size, shuffle=True)\n",
    "test_loader = torch.utils.data.DataLoader(testset, batch_size=batch_size, shuffle=True)"
   ]
  },
  {
   "cell_type": "markdown",
   "id": "5f058e7a",
   "metadata": {},
   "source": [
    "# Create and instance a Fully Connected Network (Proof of Cconcept)"
   ]
  },
  {
   "cell_type": "code",
   "execution_count": null,
   "id": "282d277b",
   "metadata": {},
   "outputs": [],
   "source": [
    "def create_model():\n",
    "    '''Create a PT model'''\n",
    "\n",
    "    input_size = 784\n",
    "    output_size = 10 # Number of classes\n",
    "\n",
    "    model = nn.Sequential(nn.Linear(input_size, 128),\n",
    "                          nn.ReLU(),\n",
    "                          nn.Linear(128, 64),\n",
    "                          nn.ReLU(),\n",
    "                          nn.Linear(64, output_size),\n",
    "                          nn.LogSoftmax(dim=1))\n",
    "\n",
    "    return model"
   ]
  },
  {
   "cell_type": "code",
   "execution_count": null,
   "id": "759a043e",
   "metadata": {},
   "outputs": [],
   "source": [
    "# Instance our NN model\n",
    "model = create_model()"
   ]
  },
  {
   "cell_type": "markdown",
   "id": "07dfb4a3",
   "metadata": {},
   "source": [
    "### Train the model\n",
    "#### Create Training and Testing loops"
   ]
  },
  {
   "cell_type": "code",
   "execution_count": null,
   "id": "66f424c5",
   "metadata": {},
   "outputs": [],
   "source": [
    "# Define training loop\n",
    "def train(model, train_loader, loss_fn, optimizer, epoch):\n",
    "    # Set the model on training mode\n",
    "    model.train()\n",
    "    for e in range(epochs):\n",
    "        # Initialize loss for each epoch\n",
    "        epoch_loss = 0.0\n",
    "        for data, target in train_loader: #1 Loop through data \n",
    "            # Reshape data\n",
    "            data = data.view(data.shape[0], -1)\n",
    "            # 4 Zero all gradients\n",
    "            optimizer.zero_grad()\n",
    "            # 2 Forward pass\n",
    "            pred = model(data)\n",
    "            # 3 Compute loss\n",
    "            loss = loss_fn(pred, target)\n",
    "            # Accumulate the loss\n",
    "            epoch_loss += loss.item()\n",
    "            # 5 Backpropagation: compute gradient of the loss with respect to model parameters\n",
    "            loss.backward()\n",
    "            # 6 Update weights\n",
    "            optimizer.step()\n",
    "\n",
    "        # Compute average loss for the epoch\n",
    "        avg_epoch_loss = epoch_loss / len(train_loader)\n",
    "        print(f'Epoch {e + 1}/{epochs}, Loss: {avg_epoch_loss:.4f}')\n",
    "\n",
    "\n",
    "# Define testing loop\n",
    "def test(model, test_loader):\n",
    "    # Set the model on testing mode\n",
    "    model.eval()\n",
    "    with torch.no_grad(): #Disable gradient calculation\n",
    "        for data, target in test_loader:\n",
    "            # Reshape data\n",
    "            data = data.view(data.shape[0], -1)\n",
    "            output = model(data)\n",
    "            "
   ]
  },
  {
   "cell_type": "code",
   "execution_count": null,
   "id": "23446892",
   "metadata": {},
   "outputs": [],
   "source": [
    "# Set model configs\n",
    "loss_fn = nn.NLLLoss()\n",
    "optimizer = optim.Adam(model.parameters(), lr=0.01)\n",
    "\n",
    "# Set model hyperparams\n",
    "epochs = 10\n",
    "\n",
    "train(model,\n",
    "      train_loader,\n",
    "      loss_fn, optimizer,\n",
    "      epochs)"
   ]
  },
  {
   "cell_type": "markdown",
   "id": "eb1585bc",
   "metadata": {},
   "source": [
    "### Test model"
   ]
  },
  {
   "cell_type": "code",
   "execution_count": null,
   "id": "dd84b7f6",
   "metadata": {},
   "outputs": [],
   "source": [
    "\n",
    "test(model, test_loader)"
   ]
  }
 ],
 "metadata": {
  "kernelspec": {
   "display_name": "Python 3 (ipykernel)",
   "language": "python",
   "name": "python3"
  },
  "language_info": {
   "codemirror_mode": {
    "name": "ipython",
    "version": 3
   },
   "file_extension": ".py",
   "mimetype": "text/x-python",
   "name": "python",
   "nbconvert_exporter": "python",
   "pygments_lexer": "ipython3",
   "version": "3.9.19"
  }
 },
 "nbformat": 4,
 "nbformat_minor": 5
}
